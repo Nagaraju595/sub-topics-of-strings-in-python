{
 "cells": [
  {
   "cell_type": "markdown",
   "id": "07e4fee0",
   "metadata": {},
   "source": [
    "# what is string in python?\n",
    "\n",
    "Strings are contiguous series of characters enclosed in single or double quotes. Python doesn’t have any separate data type for characters so they are represented as a single character string. \n",
    "\n",
    "For eg: \n",
    "\n",
    ">>> s_name = “Amit” # s_name is a variable storing a string.  \n",
    "\n",
    ">>>s = ‘a’  #String can also be enclosed in single  quotes\n"
   ]
  },
  {
   "cell_type": "markdown",
   "id": "c36c4581",
   "metadata": {},
   "source": [
    "# How to create strings in python?\n",
    "Creating strings: To create string enclose the character or sequence of character in Single or Double Quotes like shown below\n",
    "\n",
    ">>> s_name = “Amit”  #String enclosed in double quotes\n",
    "\n",
    ">>>s = ‘a’ # String enclosed in Single Quotes\n",
    "\n",
    "We can also use str() function to create string: \n",
    "\n",
    "N = str () # This function will create an empty string \n",
    "\n",
    "name = str(1234) # This will create a variable name which store a string “1234” \n",
    "\n",
    "If we execute the following code: \n",
    "\n",
    ">>>print(name) \n",
    "\n",
    "Output will come \n",
    "**1234**\n"
   ]
  },
  {
   "cell_type": "markdown",
   "id": "a157b037",
   "metadata": {},
   "source": [
    "# Traversing strings in python\n",
    "Traversing a String:   It means accessing all the elements of the string one by one using index value. \n",
    "\n",
    "St = “PYTHON” \n",
    "\n",
    "\n",
    "Strings in Python\n",
    "St[1] = Y  \tSt[5] = N \tSt[-1] = N \tSt[-6] = P \n",
    "Iterating through string using for loop: \n",
    "\n",
    "Traversing the strings in Python using for loop \n",
    "\n"
   ]
  },
  {
   "cell_type": "code",
   "execution_count": 7,
   "id": "a3b54607",
   "metadata": {},
   "outputs": [
    {
     "name": "stdout",
     "output_type": "stream",
     "text": [
      "l\n",
      "ll@e\n",
      "ee@a\n",
      "aa@r\n",
      "rr@n\n",
      "nn@ \n",
      "  @s\n",
      "ss@t\n",
      "tt@r\n",
      "rr@i\n",
      "ii@n\n",
      "nn@g\n",
      "gg@s\n",
      "ss@ \n",
      "  @i\n",
      "ii@n\n",
      "nn@ \n",
      "  @p\n",
      "pp@y\n",
      "yy@t\n",
      "tt@h\n",
      "hh@o\n",
      "oo@n\n",
      "nn@"
     ]
    }
   ],
   "source": [
    "#for loop\n",
    "'we are using'\n",
    "str=\"learn strings in python\"\n",
    "for i in str:\n",
    "    \n",
    " print(i)\n",
    " print(i,end=\"\")\n",
    " print(i,end=\"@\")"
   ]
  },
  {
   "cell_type": "markdown",
   "id": "a5703875",
   "metadata": {},
   "source": [
    "# Operations of strings in python\n",
    "**concatenation***\n",
    "**concatenation of strings is the joining of two or more strings and forms a new string\n",
    "\n",
    "\n",
    "str=\"ravi\"\n",
    "\n",
    "str1=\"ramu\"\n",
    "\n",
    "v=str+str1\n",
    "\n",
    "print(v)\n",
    "\n",
    "\n",
    "*Replicating-::\n",
    "\n",
    "*making multipes copies of same string\n",
    "\n",
    "str=\"shiva anna\"\n",
    "\n",
    "str1=str*3\n",
    "\n",
    "print(str1)\n",
    "\n"
   ]
  },
  {
   "cell_type": "markdown",
   "id": "00563667",
   "metadata": {},
   "source": [
    "# Membership operator::--\n",
    " there are two membership\n",
    "operators:\n",
    "1. ‘in’ operator returns True if a substring\n",
    "is present in main string\n",
    "2. ‘not in’ operator returns True if a substring\n",
    "is not present in main string.\n",
    "\n",
    "str1 = “Welcome”\n",
    "print(‘com’ in str1)\n",
    "print(‘W’ in str1)\n",
    "print(‘Wel’ not in str1)\n",
    "**hey raja ,\n",
    "guess output of this program \n",
    "OUTPUT\n",
    "\n",
    "True\n",
    "True\n",
    "False\n",
    "String Comparison : We can compare\n",
    "the string using relational/comparison\n",
    "operator like (>, <, >=, <=, ==, !=)\n",
    "\n",
    "print(“amit” == “Amit”)\n",
    "print(“amit” != “Amit”)\n",
    "print(“blog” > “z”)\n",
    "\n",
    "OUTPUT\n",
    "\n",
    "\n",
    "False\n",
    "True\n",
    "False\n"
   ]
  },
  {
   "cell_type": "code",
   "execution_count": null,
   "id": "73aa3a4c",
   "metadata": {},
   "outputs": [],
   "source": []
  },
  {
   "cell_type": "code",
   "execution_count": null,
   "id": "ea5b25a9",
   "metadata": {},
   "outputs": [],
   "source": []
  },
  {
   "cell_type": "markdown",
   "id": "e1c1b936",
   "metadata": {},
   "source": [
    "# String Comparison : We can compare\n",
    "the string using relational/comparison\n",
    "operator like (>, <, >=, <=, ==, !=)\n",
    "\n",
    "print(“amit” == “Amit”)\n",
    "print(“amit” != “Amit”)\n",
    "print(“blog” > “z”)"
   ]
  },
  {
   "cell_type": "markdown",
   "id": "63d01a11",
   "metadata": {},
   "source": [
    "## Inbuilt functions of strings in python\n",
    "       \n"
   ]
  },
  {
   "cell_type": "code",
   "execution_count": null,
   "id": "1b95f016",
   "metadata": {},
   "outputs": [],
   "source": []
  }
 ],
 "metadata": {
  "kernelspec": {
   "display_name": "Python 3 (ipykernel)",
   "language": "python",
   "name": "python3"
  },
  "language_info": {
   "codemirror_mode": {
    "name": "ipython",
    "version": 3
   },
   "file_extension": ".py",
   "mimetype": "text/x-python",
   "name": "python",
   "nbconvert_exporter": "python",
   "pygments_lexer": "ipython3",
   "version": "3.9.7"
  }
 },
 "nbformat": 4,
 "nbformat_minor": 5
}
